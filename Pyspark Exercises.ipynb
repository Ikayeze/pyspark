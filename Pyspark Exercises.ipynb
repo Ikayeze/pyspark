{
 "cells": [
  {
   "cell_type": "code",
   "execution_count": 1,
   "id": "9d867484",
   "metadata": {
    "ExecuteTime": {
     "end_time": "2023-03-18T13:28:12.207552Z",
     "start_time": "2023-03-18T13:28:12.084617Z"
    }
   },
   "outputs": [],
   "source": [
    "import pyspark\n",
    "from pyspark.sql import SparkSession\n",
    "import pyspark.sql.functions as f"
   ]
  },
  {
   "cell_type": "code",
   "execution_count": 2,
   "id": "18cf8dbd",
   "metadata": {
    "ExecuteTime": {
     "end_time": "2023-03-18T13:28:22.564350Z",
     "start_time": "2023-03-18T13:28:14.756487Z"
    }
   },
   "outputs": [],
   "source": [
    "spark = SparkSession.builder.master(\"local[*]\").appName(\"Datamanipulation\").getOrCreate()"
   ]
  },
  {
   "cell_type": "code",
   "execution_count": 3,
   "id": "1cb29770",
   "metadata": {
    "ExecuteTime": {
     "end_time": "2023-03-18T13:28:29.945667Z",
     "start_time": "2023-03-18T13:28:24.413760Z"
    }
   },
   "outputs": [],
   "source": [
    "# read our data - lives in a csv file\n",
    "\n",
    "df = spark.read.option(\"header\",\"true\").csv(\"Sample - EU Superstore.csv\")"
   ]
  },
  {
   "cell_type": "markdown",
   "id": "0472059c",
   "metadata": {
    "heading_collapsed": true
   },
   "source": [
    "# how many rows of the EU Superstore dataset have the country being France\n"
   ]
  },
  {
   "cell_type": "code",
   "execution_count": 7,
   "id": "fb61072a",
   "metadata": {
    "ExecuteTime": {
     "end_time": "2023-03-17T12:56:27.287494Z",
     "start_time": "2023-03-17T12:56:27.277490Z"
    },
    "hidden": true
   },
   "outputs": [
    {
     "data": {
      "text/plain": [
       "['Row ID',\n",
       " 'Order ID',\n",
       " 'Order Date',\n",
       " 'Ship Date',\n",
       " 'Ship Mode',\n",
       " 'Customer ID',\n",
       " 'Customer Name',\n",
       " 'Segment',\n",
       " 'City',\n",
       " 'State',\n",
       " 'Country',\n",
       " 'Region',\n",
       " 'Product ID',\n",
       " 'Category',\n",
       " 'Sub-Category',\n",
       " 'Product Name',\n",
       " 'Sales',\n",
       " 'Quantity',\n",
       " 'Discount',\n",
       " 'Profit']"
      ]
     },
     "execution_count": 7,
     "metadata": {},
     "output_type": "execute_result"
    }
   ],
   "source": [
    "df.columns"
   ]
  },
  {
   "cell_type": "code",
   "execution_count": 10,
   "id": "88d41c10",
   "metadata": {
    "ExecuteTime": {
     "end_time": "2023-03-17T12:59:21.478839Z",
     "start_time": "2023-03-17T12:59:21.465157Z"
    },
    "hidden": true
   },
   "outputs": [],
   "source": [
    "france_rows=df['country']=='France'"
   ]
  },
  {
   "cell_type": "code",
   "execution_count": 15,
   "id": "7c43ef41",
   "metadata": {
    "ExecuteTime": {
     "end_time": "2023-03-17T13:01:02.803835Z",
     "start_time": "2023-03-17T13:01:00.839831Z"
    },
    "hidden": true
   },
   "outputs": [],
   "source": [
    "france_rows=df.filter(df['country']=='France').count()"
   ]
  },
  {
   "cell_type": "code",
   "execution_count": 18,
   "id": "e16a6b07",
   "metadata": {
    "ExecuteTime": {
     "end_time": "2023-03-17T13:04:45.367324Z",
     "start_time": "2023-03-17T13:04:45.352572Z"
    },
    "hidden": true
   },
   "outputs": [
    {
     "name": "stdout",
     "output_type": "stream",
     "text": [
      "there are 2827 rows for france\n"
     ]
    }
   ],
   "source": [
    "print(f'there are {france_rows} rows for france')"
   ]
  },
  {
   "cell_type": "markdown",
   "id": "285fb304",
   "metadata": {
    "heading_collapsed": true
   },
   "source": [
    "# of those, how many are profitable?\n",
    "\n"
   ]
  },
  {
   "cell_type": "code",
   "execution_count": 4,
   "id": "609c63dc",
   "metadata": {
    "ExecuteTime": {
     "end_time": "2023-03-18T01:08:55.780481Z",
     "start_time": "2023-03-18T01:08:53.566221Z"
    },
    "hidden": true
   },
   "outputs": [
    {
     "data": {
      "text/plain": [
       "2329"
      ]
     },
     "execution_count": 4,
     "metadata": {},
     "output_type": "execute_result"
    }
   ],
   "source": [
    "df.filter((df[\"Country\"].isin(\"France\")) & (df[\"Profit\"] > 0.0)).count()"
   ]
  },
  {
   "cell_type": "markdown",
   "id": "f7aeb433",
   "metadata": {
    "heading_collapsed": true
   },
   "source": [
    "# how any different discount brackets exist? what are they?\n"
   ]
  },
  {
   "cell_type": "code",
   "execution_count": 9,
   "id": "5872cef8",
   "metadata": {
    "ExecuteTime": {
     "end_time": "2023-03-18T01:12:34.436630Z",
     "start_time": "2023-03-18T01:12:34.088143Z"
    },
    "hidden": true
   },
   "outputs": [
    {
     "data": {
      "text/plain": [
       "14"
      ]
     },
     "execution_count": 9,
     "metadata": {},
     "output_type": "execute_result"
    }
   ],
   "source": [
    "df.select(\"Discount\").distinct().count()\n"
   ]
  },
  {
   "cell_type": "code",
   "execution_count": 10,
   "id": "adbb02a6",
   "metadata": {
    "ExecuteTime": {
     "end_time": "2023-03-18T01:12:38.674585Z",
     "start_time": "2023-03-18T01:12:38.377069Z"
    },
    "hidden": true
   },
   "outputs": [
    {
     "name": "stdout",
     "output_type": "stream",
     "text": [
      "+--------+\n",
      "|Discount|\n",
      "+--------+\n",
      "|     0.3|\n",
      "|     0.7|\n",
      "|       0|\n",
      "|     0.2|\n",
      "|    0.15|\n",
      "|    0.35|\n",
      "|     0.8|\n",
      "|    0.45|\n",
      "|     0.5|\n",
      "|    0.65|\n",
      "|     0.6|\n",
      "|     0.1|\n",
      "|    0.85|\n",
      "|     0.4|\n",
      "+--------+\n",
      "\n"
     ]
    }
   ],
   "source": [
    "df.select(\"Discount\").distinct().show()"
   ]
  },
  {
   "cell_type": "markdown",
   "id": "db99df07",
   "metadata": {
    "heading_collapsed": true
   },
   "source": [
    "# let's see the totl profit by discount bracket, make sure they are ordered by \n"
   ]
  },
  {
   "cell_type": "code",
   "execution_count": 14,
   "id": "b54521d3",
   "metadata": {
    "ExecuteTime": {
     "end_time": "2023-03-18T01:31:55.766752Z",
     "start_time": "2023-03-18T01:31:54.803229Z"
    },
    "hidden": true
   },
   "outputs": [
    {
     "name": "stdout",
     "output_type": "stream",
     "text": [
      "+--------+-----------+\n",
      "|Discount|totalProfit|\n",
      "+--------+-----------+\n",
      "|       0|  383806.53|\n",
      "|     0.1|  126884.03|\n",
      "|    0.15|   24677.56|\n",
      "|     0.2|    2189.55|\n",
      "|     0.8|    -460.28|\n",
      "|     0.3|    -758.42|\n",
      "|    0.45|   -1103.19|\n",
      "|    0.85|   -3068.66|\n",
      "|     0.7|   -5496.77|\n",
      "|    0.65|   -6221.97|\n",
      "|    0.35|   -9122.65|\n",
      "|     0.6|  -20517.46|\n",
      "|     0.4|  -21346.43|\n",
      "|     0.5|  -96632.12|\n",
      "+--------+-----------+\n",
      "\n"
     ]
    }
   ],
   "source": [
    "profit_discount = df.groupby(\"Discount\").agg({\"Profit\":\"sum\"})\n",
    "\n",
    "profit_discount = profit_discount.withColumn(\"sum(Profit)\", f.round(profit_discount[\"sum(Profit)\"], 2)).\\\n",
    "orderBy(\"sum(Profit)\", ascending=False).withColumnRenamed(\"sum(Profit)\", \"totalProfit\")\n",
    "profit_discount.show()\n"
   ]
  },
  {
   "cell_type": "markdown",
   "id": "a4c1c6db",
   "metadata": {
    "heading_collapsed": true
   },
   "source": [
    "# what is the value after which we should stop offering discount?\n",
    "\n"
   ]
  },
  {
   "cell_type": "code",
   "execution_count": 16,
   "id": "e03c3356",
   "metadata": {
    "ExecuteTime": {
     "end_time": "2023-03-18T01:39:01.130736Z",
     "start_time": "2023-03-18T01:38:59.815585Z"
    },
    "hidden": true
   },
   "outputs": [
    {
     "data": {
      "text/plain": [
       "'0.2'"
      ]
     },
     "execution_count": 16,
     "metadata": {},
     "output_type": "execute_result"
    }
   ],
   "source": [
    "profit_discount.filter(profit_discount[\"totalProfit\"] > 0).orderBy(\"totalProfit\", ascending=True).select(\"Discount\").collect()[0][0]"
   ]
  },
  {
   "cell_type": "markdown",
   "id": "f8bea03c",
   "metadata": {},
   "source": [
    "# who are the top 5 most profitable customers\n",
    "\n"
   ]
  },
  {
   "cell_type": "code",
   "execution_count": 4,
   "id": "fc893ce6",
   "metadata": {
    "ExecuteTime": {
     "end_time": "2023-03-18T13:29:15.094621Z",
     "start_time": "2023-03-18T13:29:12.685219Z"
    }
   },
   "outputs": [
    {
     "name": "stdout",
     "output_type": "stream",
     "text": [
      "+-----------+-----------------+------------------+\n",
      "|Customer ID|    Customer Name|       sum(Profit)|\n",
      "+-----------+-----------------+------------------+\n",
      "|   SP-20920|     Susan Pistek| 4974.512999999999|\n",
      "|   PJ-18835|    Patrick Jones|3986.0039999999995|\n",
      "|   PO-18865|Patrick O'Donnell|          3778.197|\n",
      "|   EB-13840|    Ellis Ballard|           3459.66|\n",
      "|   MG-18145|  Mike Gockenbach|3144.4439999999995|\n",
      "+-----------+-----------------+------------------+\n",
      "\n"
     ]
    }
   ],
   "source": [
    " top_customers = df.groupBy(\"Customer ID\", \"Customer Name\").agg({\"Profit\":\"sum\"})\n",
    "\n",
    "top_customers = top_customers.orderBy(\"sum(Profit)\", ascending=False).limit(5)\n",
    "top_customers.show()\n"
   ]
  },
  {
   "cell_type": "code",
   "execution_count": 45,
   "id": "56383bfe",
   "metadata": {
    "ExecuteTime": {
     "end_time": "2023-03-18T13:27:40.178518Z",
     "start_time": "2023-03-18T13:27:40.154517Z"
    }
   },
   "outputs": [],
   "source": [
    "top_customers=top_customers.withColumnRenamed('Customer Name','customer name').drop('sum(Profit)')"
   ]
  },
  {
   "cell_type": "code",
   "execution_count": 9,
   "id": "5c2fafcc",
   "metadata": {
    "ExecuteTime": {
     "end_time": "2023-03-18T13:34:40.668221Z",
     "start_time": "2023-03-18T13:34:40.396654Z"
    }
   },
   "outputs": [],
   "source": [
    "top_5 = top_customers.collect()[:5]"
   ]
  },
  {
   "cell_type": "code",
   "execution_count": 11,
   "id": "370c9577",
   "metadata": {
    "ExecuteTime": {
     "end_time": "2023-03-18T13:35:42.809737Z",
     "start_time": "2023-03-18T13:35:42.803739Z"
    }
   },
   "outputs": [],
   "source": [
    "top_names=[i[1] for i in top_5]"
   ]
  },
  {
   "cell_type": "code",
   "execution_count": 12,
   "id": "4c86107a",
   "metadata": {
    "ExecuteTime": {
     "end_time": "2023-03-18T13:35:55.103075Z",
     "start_time": "2023-03-18T13:35:55.087073Z"
    }
   },
   "outputs": [
    {
     "data": {
      "text/plain": [
       "['Susan Pistek',\n",
       " 'Patrick Jones',\n",
       " \"Patrick O'Donnell\",\n",
       " 'Ellis Ballard',\n",
       " 'Mike Gockenbach']"
      ]
     },
     "execution_count": 12,
     "metadata": {},
     "output_type": "execute_result"
    }
   ],
   "source": [
    "top_names"
   ]
  },
  {
   "cell_type": "markdown",
   "id": "c1ad0616",
   "metadata": {},
   "source": [
    "# get all the rows belonging to those 5 customer names: hint, you may need the collect method - how many rows are they?\n",
    "\n"
   ]
  },
  {
   "cell_type": "code",
   "execution_count": 13,
   "id": "7abbf7e8",
   "metadata": {
    "ExecuteTime": {
     "end_time": "2023-03-18T13:36:36.938027Z",
     "start_time": "2023-03-18T13:36:36.495817Z"
    }
   },
   "outputs": [
    {
     "data": {
      "text/plain": [
       "76"
      ]
     },
     "execution_count": 13,
     "metadata": {},
     "output_type": "execute_result"
    }
   ],
   "source": [
    "df.filter(df[\"Customer Name\"].isin(top_names)).count()\n"
   ]
  },
  {
   "cell_type": "markdown",
   "id": "5cf6c6d2",
   "metadata": {},
   "source": [
    "# create a new column which is the value of the sale were there not discount applied. Hint: orginal = sales/(1-d)"
   ]
  },
  {
   "cell_type": "code",
   "execution_count": 16,
   "id": "0d4734bd",
   "metadata": {
    "ExecuteTime": {
     "end_time": "2023-03-18T13:41:41.831184Z",
     "start_time": "2023-03-18T13:41:41.616982Z"
    }
   },
   "outputs": [],
   "source": [
    "df = df.withColumn(\"original\", f.round(df[\"Sales\"] / (1-df[\"Discount\"]), 2))"
   ]
  },
  {
   "cell_type": "code",
   "execution_count": 17,
   "id": "5f9d09ac",
   "metadata": {
    "ExecuteTime": {
     "end_time": "2023-03-18T13:41:49.146767Z",
     "start_time": "2023-03-18T13:41:48.958915Z"
    }
   },
   "outputs": [
    {
     "name": "stdout",
     "output_type": "stream",
     "text": [
      "+--------+\n",
      "|original|\n",
      "+--------+\n",
      "|    79.2|\n",
      "|  388.92|\n",
      "|   35.19|\n",
      "|   50.94|\n",
      "|  307.44|\n",
      "|   122.4|\n",
      "|  413.82|\n",
      "|  428.22|\n",
      "| 3979.29|\n",
      "|   43.56|\n",
      "|   25.26|\n",
      "| 2715.45|\n",
      "|   12.21|\n",
      "| 2549.76|\n",
      "|  153.45|\n",
      "|  142.65|\n",
      "|  690.12|\n",
      "|    8.16|\n",
      "|  347.88|\n",
      "|  639.45|\n",
      "+--------+\n",
      "only showing top 20 rows\n",
      "\n"
     ]
    }
   ],
   "source": [
    "df.select('original').show()"
   ]
  },
  {
   "cell_type": "markdown",
   "id": "132de495",
   "metadata": {},
   "source": [
    "# calculate the difference between sales and discount value\n"
   ]
  },
  {
   "cell_type": "code",
   "execution_count": 18,
   "id": "15025340",
   "metadata": {
    "ExecuteTime": {
     "end_time": "2023-03-18T13:42:00.741062Z",
     "start_time": "2023-03-18T13:42:00.562484Z"
    }
   },
   "outputs": [
    {
     "name": "stdout",
     "output_type": "stream",
     "text": [
      "+--------+--------+--------+\n",
      "|   Sales|original|Discount|\n",
      "+--------+--------+--------+\n",
      "|    79.2|    79.2|       0|\n",
      "|  388.92|  388.92|       0|\n",
      "|   35.19|   35.19|       0|\n",
      "|   50.94|   50.94|       0|\n",
      "|  307.44|  307.44|       0|\n",
      "|   122.4|   122.4|       0|\n",
      "|  413.82|  413.82|       0|\n",
      "|  428.22|  428.22|       0|\n",
      "| 3979.29| 3979.29|       0|\n",
      "|   43.56|   43.56|       0|\n",
      "|   25.26|   25.26|       0|\n",
      "|2443.905| 2715.45|     0.1|\n",
      "|   12.21|   12.21|       0|\n",
      "|2167.296| 2549.76|    0.15|\n",
      "| 138.105|  153.45|     0.1|\n",
      "| 128.385|  142.65|     0.1|\n",
      "|  690.12|  690.12|       0|\n",
      "|    8.16|    8.16|       0|\n",
      "|  347.88|  347.88|       0|\n",
      "| 575.505|  639.45|     0.1|\n",
      "+--------+--------+--------+\n",
      "only showing top 20 rows\n",
      "\n"
     ]
    }
   ],
   "source": [
    "df.select('Sales','original','Discount').show()"
   ]
  },
  {
   "cell_type": "code",
   "execution_count": 19,
   "id": "f11c3efc",
   "metadata": {
    "ExecuteTime": {
     "end_time": "2023-03-18T13:44:32.233017Z",
     "start_time": "2023-03-18T13:44:32.195016Z"
    }
   },
   "outputs": [],
   "source": [
    "df = df.withColumn(\"Discount_Values\", f.round(df[\"Sales\"] - (df[\"Sales\"] * df[\"Discount\"]), 2))\n"
   ]
  },
  {
   "cell_type": "code",
   "execution_count": 20,
   "id": "a5257dba",
   "metadata": {
    "ExecuteTime": {
     "end_time": "2023-03-18T13:45:32.680854Z",
     "start_time": "2023-03-18T13:45:32.444071Z"
    }
   },
   "outputs": [
    {
     "name": "stdout",
     "output_type": "stream",
     "text": [
      "+--------+--------+--------+---------------+\n",
      "|   Sales|original|Discount|discount_values|\n",
      "+--------+--------+--------+---------------+\n",
      "|    79.2|    79.2|       0|           79.2|\n",
      "|  388.92|  388.92|       0|         388.92|\n",
      "|   35.19|   35.19|       0|          35.19|\n",
      "|   50.94|   50.94|       0|          50.94|\n",
      "|  307.44|  307.44|       0|         307.44|\n",
      "|   122.4|   122.4|       0|          122.4|\n",
      "|  413.82|  413.82|       0|         413.82|\n",
      "|  428.22|  428.22|       0|         428.22|\n",
      "| 3979.29| 3979.29|       0|        3979.29|\n",
      "|   43.56|   43.56|       0|          43.56|\n",
      "|   25.26|   25.26|       0|          25.26|\n",
      "|2443.905| 2715.45|     0.1|        2199.51|\n",
      "|   12.21|   12.21|       0|          12.21|\n",
      "|2167.296| 2549.76|    0.15|         1842.2|\n",
      "| 138.105|  153.45|     0.1|         124.29|\n",
      "| 128.385|  142.65|     0.1|         115.55|\n",
      "|  690.12|  690.12|       0|         690.12|\n",
      "|    8.16|    8.16|       0|           8.16|\n",
      "|  347.88|  347.88|       0|         347.88|\n",
      "| 575.505|  639.45|     0.1|         517.95|\n",
      "+--------+--------+--------+---------------+\n",
      "only showing top 20 rows\n",
      "\n"
     ]
    }
   ],
   "source": [
    "df.select('Sales','original','Discount','discount_values').show()"
   ]
  },
  {
   "cell_type": "markdown",
   "id": "34ed12e8",
   "metadata": {},
   "source": [
    "# how much money did we not gain due to the discounts - per discount bracket?\n"
   ]
  },
  {
   "cell_type": "code",
   "execution_count": 22,
   "id": "2ad778db",
   "metadata": {
    "ExecuteTime": {
     "end_time": "2023-03-18T13:48:14.513646Z",
     "start_time": "2023-03-18T13:48:14.474648Z"
    }
   },
   "outputs": [],
   "source": [
    "df = df.withColumn(\"losses\", f.round(df[\"Sales\"] - df[\"Discount_Values\"],2))"
   ]
  },
  {
   "cell_type": "code",
   "execution_count": 29,
   "id": "8f428cd7",
   "metadata": {
    "ExecuteTime": {
     "end_time": "2023-03-18T14:01:30.513702Z",
     "start_time": "2023-03-18T14:01:30.012176Z"
    }
   },
   "outputs": [
    {
     "name": "stdout",
     "output_type": "stream",
     "text": [
      "+--------+-----------+\n",
      "|Discount|sum(losses)|\n",
      "+--------+-----------+\n",
      "|     0.5|    91866.0|\n",
      "|     0.1|    76241.0|\n",
      "|    0.15|    38448.0|\n",
      "|     0.4|    28035.0|\n",
      "|    0.35|    18956.0|\n",
      "|     0.6|    15858.0|\n",
      "|     0.2|     8522.0|\n",
      "|    0.65|     4277.0|\n",
      "|     0.7|     2560.0|\n",
      "|     0.3|     1841.0|\n",
      "|    0.45|     1146.0|\n",
      "|    0.85|      677.0|\n",
      "|     0.8|      127.0|\n",
      "|       0|        0.0|\n",
      "+--------+-----------+\n",
      "\n"
     ]
    }
   ],
   "source": [
    "df.select('Discount','losses').groupBy('Discount').\\\n",
    "sum().withColumn('sum(losses)',f.round('sum(losses)')).orderBy('sum(losses)',ascending=False).show()"
   ]
  },
  {
   "cell_type": "code",
   "execution_count": null,
   "id": "aa09e384",
   "metadata": {},
   "outputs": [],
   "source": []
  },
  {
   "cell_type": "markdown",
   "id": "768d74a3",
   "metadata": {},
   "source": [
    "# find the discount bracket which made us not gain the most (dynamically)\n",
    "\n"
   ]
  },
  {
   "cell_type": "code",
   "execution_count": 39,
   "id": "753449fa",
   "metadata": {
    "ExecuteTime": {
     "end_time": "2023-03-18T14:11:43.174680Z",
     "start_time": "2023-03-18T14:11:42.299641Z"
    }
   },
   "outputs": [],
   "source": [
    "bad_discount=df.select('Discount','losses').groupBy('Discount').\\\n",
    "sum().withColumn('sum(losses)',f.round('sum(losses)')).orderBy('sum(losses)',ascending=False).collect()[0][0]"
   ]
  },
  {
   "cell_type": "code",
   "execution_count": 40,
   "id": "13929f76",
   "metadata": {
    "ExecuteTime": {
     "end_time": "2023-03-18T14:11:54.145501Z",
     "start_time": "2023-03-18T14:11:54.124502Z"
    }
   },
   "outputs": [
    {
     "data": {
      "text/plain": [
       "'0.5'"
      ]
     },
     "execution_count": 40,
     "metadata": {},
     "output_type": "execute_result"
    }
   ],
   "source": [
    "bad_discount"
   ]
  },
  {
   "cell_type": "markdown",
   "id": "cd35026a",
   "metadata": {},
   "source": [
    "# what would have been the total profit if we removed all orders from that discount group? \n"
   ]
  },
  {
   "cell_type": "code",
   "execution_count": 36,
   "id": "df61ea75",
   "metadata": {
    "ExecuteTime": {
     "end_time": "2023-03-18T14:10:22.109728Z",
     "start_time": "2023-03-18T14:10:22.094730Z"
    }
   },
   "outputs": [
    {
     "data": {
      "text/plain": [
       "['Row ID',\n",
       " 'Order ID',\n",
       " 'Order Date',\n",
       " 'Ship Date',\n",
       " 'Ship Mode',\n",
       " 'Customer ID',\n",
       " 'Customer Name',\n",
       " 'Segment',\n",
       " 'City',\n",
       " 'State',\n",
       " 'Country',\n",
       " 'Region',\n",
       " 'Product ID',\n",
       " 'Category',\n",
       " 'Sub-Category',\n",
       " 'Product Name',\n",
       " 'Sales',\n",
       " 'Quantity',\n",
       " 'Discount',\n",
       " 'Profit',\n",
       " 'original',\n",
       " 'Discount_Values',\n",
       " 'losses']"
      ]
     },
     "execution_count": 36,
     "metadata": {},
     "output_type": "execute_result"
    }
   ],
   "source": [
    "df.columns"
   ]
  },
  {
   "cell_type": "code",
   "execution_count": 37,
   "id": "91390a90",
   "metadata": {
    "ExecuteTime": {
     "end_time": "2023-03-18T14:10:33.895845Z",
     "start_time": "2023-03-18T14:10:33.865848Z"
    }
   },
   "outputs": [],
   "source": [
    "df = df.withColumn(\"Profit\", df[\"Profit\"].cast(\"float\"))"
   ]
  },
  {
   "cell_type": "code",
   "execution_count": 63,
   "id": "c41770fc",
   "metadata": {
    "ExecuteTime": {
     "end_time": "2023-03-18T15:39:31.043734Z",
     "start_time": "2023-03-18T15:39:30.926102Z"
    }
   },
   "outputs": [],
   "source": [
    "profit_without_discount = df.filter(df[\"Discount\"] != bad_discount).agg({'profit':'sum'})"
   ]
  },
  {
   "cell_type": "code",
   "execution_count": 64,
   "id": "8363a0a2",
   "metadata": {
    "ExecuteTime": {
     "end_time": "2023-03-18T15:39:58.693781Z",
     "start_time": "2023-03-18T15:39:58.430169Z"
    }
   },
   "outputs": [
    {
     "name": "stdout",
     "output_type": "stream",
     "text": [
      "+------------------+\n",
      "|       sum(profit)|\n",
      "+------------------+\n",
      "|469461.85667362204|\n",
      "+------------------+\n",
      "\n"
     ]
    }
   ],
   "source": [
    "profit_without_discount.show()"
   ]
  },
  {
   "cell_type": "markdown",
   "id": "0fa77084",
   "metadata": {},
   "source": [
    "# how much more (or less) profit is that?\n"
   ]
  },
  {
   "cell_type": "code",
   "execution_count": 68,
   "id": "6f94dc7e",
   "metadata": {
    "ExecuteTime": {
     "end_time": "2023-03-18T15:41:26.315778Z",
     "start_time": "2023-03-18T15:41:26.287812Z"
    }
   },
   "outputs": [],
   "source": [
    "profit= df.select('Profit').agg({'Profit':'sum'})\n"
   ]
  },
  {
   "cell_type": "code",
   "execution_count": 81,
   "id": "248c141c",
   "metadata": {
    "ExecuteTime": {
     "end_time": "2023-03-18T15:58:59.169224Z",
     "start_time": "2023-03-18T15:58:58.896790Z"
    }
   },
   "outputs": [
    {
     "name": "stdout",
     "output_type": "stream",
     "text": [
      "Total Profit without bad discount is more : \n"
     ]
    },
    {
     "data": {
      "text/plain": [
       "96632.11525454745"
      ]
     },
     "execution_count": 81,
     "metadata": {},
     "output_type": "execute_result"
    }
   ],
   "source": [
    " def more():\n",
    "        if profit_without_discount.collect()[0][0] > profit.collect()[0][0]:\n",
    "            print(\"Total Profit without bad discount is more : \")\n",
    "            return profit_without_discount.collect()[0][0] - profit.collect()[0][0]\n",
    "        else:\n",
    "        \tprint(\"Total Profit with bad discount is more : \")\n",
    "        \treturn profit.collect()[0][0]- profit_without_discount.collect()[0][0]\n",
    "more()"
   ]
  },
  {
   "cell_type": "markdown",
   "id": "ade00cd3",
   "metadata": {},
   "source": [
    "# create a temporary table for our superstore table in sql\n"
   ]
  },
  {
   "cell_type": "code",
   "execution_count": 98,
   "id": "136bf9c6",
   "metadata": {
    "ExecuteTime": {
     "end_time": "2023-03-18T02:41:40.630804Z",
     "start_time": "2023-03-18T02:41:40.424782Z"
    }
   },
   "outputs": [],
   "source": [
    "df.createOrReplaceTempView(\"sdf\")\n"
   ]
  },
  {
   "cell_type": "markdown",
   "id": "a679a060",
   "metadata": {},
   "source": [
    "# use an SQL query to count the number of rows\n"
   ]
  },
  {
   "cell_type": "code",
   "execution_count": 100,
   "id": "3c5867d9",
   "metadata": {
    "ExecuteTime": {
     "end_time": "2023-03-18T02:43:19.000376Z",
     "start_time": "2023-03-18T02:43:18.789491Z"
    }
   },
   "outputs": [
    {
     "name": "stdout",
     "output_type": "stream",
     "text": [
      "+------------+\n",
      "|count(Sales)|\n",
      "+------------+\n",
      "|       10000|\n",
      "+------------+\n",
      "\n"
     ]
    }
   ],
   "source": [
    "spark.sql(\"SELECT COUNT(sdf.Sales) FROM sdf\").show()\n"
   ]
  },
  {
   "cell_type": "markdown",
   "id": "ab144025",
   "metadata": {},
   "source": [
    "# Use an SQL query to calculate the profit ratio for each country: hint, ratio is sum(profit)/sum(sales)\n"
   ]
  },
  {
   "cell_type": "code",
   "execution_count": 102,
   "id": "6062296c",
   "metadata": {
    "ExecuteTime": {
     "end_time": "2023-03-18T02:44:42.224123Z",
     "start_time": "2023-03-18T02:44:41.614188Z"
    }
   },
   "outputs": [
    {
     "name": "stdout",
     "output_type": "stream",
     "text": [
      "+--------------+--------------------+\n",
      "|       country|               ratio|\n",
      "+--------------+--------------------+\n",
      "|   Switzerland|  0.2909201193350232|\n",
      "|       Austria|  0.2641908775042505|\n",
      "|        Norway|  0.2517747548521659|\n",
      "|       Belgium| 0.23508766583987942|\n",
      "|United Kingdom| 0.21170103540397134|\n",
      "|         Spain| 0.18941580658358978|\n",
      "|       Finland| 0.18864296633316185|\n",
      "|       Germany| 0.17066792076621765|\n",
      "|        France| 0.12693568221933804|\n",
      "|         Italy| 0.06844355185424991|\n",
      "|       Ireland|-0.44426677493909256|\n",
      "|       Denmark| -0.4957190005664471|\n",
      "|   Netherlands| -0.5298342790541865|\n",
      "|        Sweden| -0.5745674280714466|\n",
      "|      Portugal| -0.5761662270806188|\n",
      "+--------------+--------------------+\n",
      "\n"
     ]
    }
   ],
   "source": [
    "spark.sql(\"SELECT sdf.country, sum(sdf.profit) / sum(sdf.sales) as ratio FROM sdf GROUP BY country ORDER BY ratio desc\").show()"
   ]
  },
  {
   "cell_type": "markdown",
   "id": "bc3697e2",
   "metadata": {},
   "source": [
    "# is the country with the largest profit ratio, the country with the largest profit?\n",
    "\n"
   ]
  },
  {
   "cell_type": "code",
   "execution_count": 104,
   "id": "4c7397b1",
   "metadata": {
    "ExecuteTime": {
     "end_time": "2023-03-18T02:47:16.237762Z",
     "start_time": "2023-03-18T02:47:15.628015Z"
    }
   },
   "outputs": [
    {
     "name": "stdout",
     "output_type": "stream",
     "text": [
      "The country has highest ratio is Switzerland and largest profit is United Kingdom\n"
     ]
    }
   ],
   "source": [
    "\n",
    "highest_ratio = spark.sql(\"SELECT country, sum(profit) / sum(sales) as ratio FROM sdf GROUP BY country ORDER BY ratio desc\").take(1)[0][0]\n",
    "\n",
    "highest_profit = spark.sql(\"SELECT country, sum(sdf.Profit) as profit FROM sdf GROUP BY country ORDER BY profit desc\").take(1)[0][0]\n",
    "\n",
    "print(f\"The country has highest ratio is {highest_ratio} and largest profit is {highest_profit}\")\n"
   ]
  },
  {
   "cell_type": "code",
   "execution_count": null,
   "id": "88b77c55",
   "metadata": {},
   "outputs": [],
   "source": []
  }
 ],
 "metadata": {
  "kernelspec": {
   "display_name": "Python 3 (ipykernel)",
   "language": "python",
   "name": "python3"
  },
  "language_info": {
   "codemirror_mode": {
    "name": "ipython",
    "version": 3
   },
   "file_extension": ".py",
   "mimetype": "text/x-python",
   "name": "python",
   "nbconvert_exporter": "python",
   "pygments_lexer": "ipython3",
   "version": "3.9.13"
  },
  "toc": {
   "base_numbering": 1,
   "nav_menu": {},
   "number_sections": true,
   "sideBar": true,
   "skip_h1_title": false,
   "title_cell": "Table of Contents",
   "title_sidebar": "Contents",
   "toc_cell": false,
   "toc_position": {},
   "toc_section_display": true,
   "toc_window_display": false
  },
  "varInspector": {
   "cols": {
    "lenName": 16,
    "lenType": 16,
    "lenVar": 40
   },
   "kernels_config": {
    "python": {
     "delete_cmd_postfix": "",
     "delete_cmd_prefix": "del ",
     "library": "var_list.py",
     "varRefreshCmd": "print(var_dic_list())"
    },
    "r": {
     "delete_cmd_postfix": ") ",
     "delete_cmd_prefix": "rm(",
     "library": "var_list.r",
     "varRefreshCmd": "cat(var_dic_list()) "
    }
   },
   "types_to_exclude": [
    "module",
    "function",
    "builtin_function_or_method",
    "instance",
    "_Feature"
   ],
   "window_display": false
  }
 },
 "nbformat": 4,
 "nbformat_minor": 5
}
